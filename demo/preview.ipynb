{
 "cells": [
  {
   "cell_type": "code",
   "execution_count": 1,
   "metadata": {},
   "outputs": [],
   "source": [
    "import merci\n",
    "\n",
    "import numpy as np"
   ]
  },
  {
   "cell_type": "code",
   "execution_count": 2,
   "metadata": {},
   "outputs": [
    {
     "name": "stderr",
     "output_type": "stream",
     "text": [
      "<frozen importlib._bootstrap>:241: RuntimeWarning: scipy._lib.messagestream.MessageStream size changed, may indicate binary incompatibility. Expected 56 from C header, got 64 from PyObject\n"
     ]
    }
   ],
   "source": [
    "# import logistic regression model\n",
    "from sklearn.linear_model import LogisticRegression\n",
    "\n",
    "# import dataset\n",
    "from sklearn.datasets import load_iris\n",
    "\n",
    "# import train test split\n",
    "from sklearn.model_selection import train_test_split\n",
    "\n",
    "# import accuracy score\n",
    "from sklearn.metrics import accuracy_score\n",
    "\n",
    "# load dataset\n",
    "data = load_iris()\n",
    "X = data.data\n",
    "y = data.target"
   ]
  },
  {
   "cell_type": "code",
   "execution_count": 3,
   "metadata": {},
   "outputs": [
    {
     "name": "stdout",
     "output_type": "stream",
     "text": [
      "0.9481481481481482\n"
     ]
    }
   ],
   "source": [
    "# split dataset\n",
    "X_train, X_test, y_train, y_test = train_test_split(X, y, test_size=0.9, random_state=42)\n",
    "\n",
    "# create model\n",
    "model = LogisticRegression()\n",
    "\n",
    "# train model\n",
    "model.fit(X_train, y_train)\n",
    "\n",
    "# predict\n",
    "y_pred = model.predict(X_test)\n",
    "\n",
    "# accuracy\n",
    "\n",
    "accuracy = accuracy_score(y_test, y_pred)\n",
    "\n",
    "print(accuracy)"
   ]
  },
  {
   "cell_type": "code",
   "execution_count": 4,
   "metadata": {},
   "outputs": [
    {
     "name": "stderr",
     "output_type": "stream",
     "text": [
      "d:\\Programs\\Anaconda\\envs\\dviz\\lib\\site-packages\\sklearn\\linear_model\\_logistic.py:444: ConvergenceWarning: lbfgs failed to converge (status=1):\n",
      "STOP: TOTAL NO. of ITERATIONS REACHED LIMIT.\n",
      "\n",
      "Increase the number of iterations (max_iter) or scale the data as shown in:\n",
      "    https://scikit-learn.org/stable/modules/preprocessing.html\n",
      "Please also refer to the documentation for alternative solver options:\n",
      "    https://scikit-learn.org/stable/modules/linear_model.html#logistic-regression\n",
      "  n_iter_i = _check_optimize_result(\n",
      "C:\\Users\\sbart\\OneDrive - put.poznan.pl\\Semestr VIII\\Program Synthesis\\merci\\merci\\measures.py:21: RuntimeWarning: invalid value encountered in divide\n",
      "  kl_divergence = np.where((p != 0) & (q != 0), p * np.log(p / q), 0).sum(axis=1)\n"
     ]
    },
    {
     "data": {
      "text/plain": [
       "1.0"
      ]
     },
     "execution_count": 4,
     "metadata": {},
     "output_type": "execute_result"
    }
   ],
   "source": [
    "def merge_arrays(arr1, arr2):\n",
    "    return np.concatenate([arr1, arr2])\n",
    "\n",
    "evaluator = merci.evaluate.TransductiveEvaluator(\n",
    "    model, \n",
    "    (X_train, y_train), \n",
    "    (X_test, y_test),\n",
    "    lambda a, b: (merge_arrays(a[0], b[0]), merge_arrays(a[1], b[1]))\n",
    ")\n",
    "evaluator.evaluate()"
   ]
  },
  {
   "cell_type": "code",
   "execution_count": 5,
   "metadata": {},
   "outputs": [
    {
     "name": "stderr",
     "output_type": "stream",
     "text": [
      "C:\\Users\\sbart\\OneDrive - put.poznan.pl\\Semestr VIII\\Program Synthesis\\merci\\merci\\measures.py:21: RuntimeWarning: divide by zero encountered in divide\n",
      "  kl_divergence = np.where((p != 0) & (q != 0), p * np.log(p / q), 0).sum(axis=1)\n",
      "C:\\Users\\sbart\\OneDrive - put.poznan.pl\\Semestr VIII\\Program Synthesis\\merci\\merci\\measures.py:21: RuntimeWarning: divide by zero encountered in log\n",
      "  kl_divergence = np.where((p != 0) & (q != 0), p * np.log(p / q), 0).sum(axis=1)\n",
      "C:\\Users\\sbart\\OneDrive - put.poznan.pl\\Semestr VIII\\Program Synthesis\\merci\\merci\\measures.py:21: RuntimeWarning: invalid value encountered in multiply\n",
      "  kl_divergence = np.where((p != 0) & (q != 0), p * np.log(p / q), 0).sum(axis=1)\n"
     ]
    },
    {
     "data": {
      "text/plain": [
       "0.6888888888888889"
      ]
     },
     "execution_count": 5,
     "metadata": {},
     "output_type": "execute_result"
    }
   ],
   "source": [
    "class RandomModel:\n",
    "    def __init__(self) -> None:\n",
    "        self.num_classes = 0\n",
    "        \n",
    "    def fit(self, X, y):\n",
    "        self.num_classes = len(np.unique(y))\n",
    "\n",
    "    def predict(self, X):\n",
    "        return np.random.randint(0, self.num_classes, X.shape[0])\n",
    "    \n",
    "\n",
    "random_model = RandomModel()\n",
    "random_model.fit(X_train, y_train)\n",
    "\n",
    "evaluator = merci.evaluate.TransductiveEvaluator(\n",
    "    random_model, \n",
    "    (X_train, y_train), \n",
    "    (X_test, y_test),\n",
    "    lambda a, b: (merge_arrays(a[0], b[0]), merge_arrays(a[1], b[1]))\n",
    ")\n",
    "\n",
    "evaluator.evaluate()"
   ]
  }
 ],
 "metadata": {
  "kernelspec": {
   "display_name": "dviz",
   "language": "python",
   "name": "python3"
  },
  "language_info": {
   "codemirror_mode": {
    "name": "ipython",
    "version": 3
   },
   "file_extension": ".py",
   "mimetype": "text/x-python",
   "name": "python",
   "nbconvert_exporter": "python",
   "pygments_lexer": "ipython3",
   "version": "3.10.4"
  }
 },
 "nbformat": 4,
 "nbformat_minor": 2
}
